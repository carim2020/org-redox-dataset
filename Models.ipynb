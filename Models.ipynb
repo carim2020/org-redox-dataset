{
 "cells": [
  {
   "cell_type": "code",
   "execution_count": null,
   "metadata": {},
   "outputs": [],
   "source": [
    "import numpy as np \n",
    "import pandas as pd\n",
    "import matplotlib.pyplot as plt\n",
    "from sklearn.linear_model import Lasso\n",
    "from sklearn.model_selection import train_test_split\n",
    "from sklearn.model_selection import GridSearchCV, KFold\n",
    "from statsmodels.stats.outliers_influence import variance_inflation_factor\n",
    "from sklearn.linear_model import LinearRegression\n",
    "from sklearn.linear_model import Ridge\n",
    "from sklearn.preprocessing import StandardScaler\n",
    "from sklearn.tree import DecisionTreeRegressor\n",
    "from sklearn import tree\n",
    "from sklearn.ensemble import RandomForestRegressor\n",
    "from sklearn.ensemble import ExtraTreesRegressor\n",
    "from sklearn.ensemble import GradientBoostingRegressor\n",
    "from mlxtend.feature_selection import SequentialFeatureSelector\n",
    "from sklearn.kernel_ridge import KernelRidge\n",
    "import scipy.stats as stat\n",
    "np.random.seed(4242)"
   ]
  },
  {
   "cell_type": "markdown",
   "metadata": {},
   "source": [
    "# General dataset preparation"
   ]
  },
  {
   "cell_type": "code",
   "execution_count": null,
   "metadata": {},
   "outputs": [],
   "source": [
    "df_tr  = pd.read_csv(\"datasets/DatasetQuinonesFilteredTrain.csv\")\n",
    "df_tst = pd.read_csv(\"datasets/DatasetQuinonesFilteredTest.csv\")"
   ]
  },
  {
   "cell_type": "code",
   "execution_count": null,
   "metadata": {},
   "outputs": [],
   "source": [
    "fnames = [\n",
    "   'BCUTc-1l',\n",
    "   'BCUTc-1h',\n",
    "   'nBondsD2',\n",
    "   'C1SP1',\n",
    "   'C3SP2',\n",
    "   'ECCEN',\n",
    "   'nHother',\n",
    "   'ndssC',\n",
    "   'naasC',\n",
    "   'ntN',\n",
    "   'SwHBa',\n",
    "   'SHdsCH',\n",
    "   'SHother',\n",
    "   'SdssC',\n",
    "   'SaasC',\n",
    "   'StN',\n",
    "   'minHother',\n",
    "   'minaasC',\n",
    "   'mindO',\n",
    "   'maxHother',\n",
    "   'maxaasC',\n",
    "   'meanI',\n",
    "   'MAXDN2',\n",
    "   'MAXDP2',\n",
    "   'fragC',\n",
    "   'nRing',\n",
    "   'topoDiameter',\n",
    "   'JGI2',\n",
    "   'TopoPSA',\n",
    "   'VABC',\n",
    "   'MW',\n",
    "   'LUMO']"
   ]
  },
  {
   "cell_type": "code",
   "execution_count": null,
   "metadata": {},
   "outputs": [],
   "source": [
    "X_df_tr     = df_tr[fnames]\n",
    "y_tr        = df_tr['deltaE_V']\n",
    "X_df_tst    = df_tst[fnames]\n",
    "y_tst       = df_tst['deltaE_V']\n",
    "\n",
    "\n",
    "scaler = StandardScaler()\n",
    "X_tr = scaler.fit_transform(X_df_tr)\n",
    "X_tst = scaler.transform(X_df_tst)"
   ]
  },
  {
   "cell_type": "markdown",
   "metadata": {},
   "source": [
    "# Helper functions"
   ]
  },
  {
   "cell_type": "markdown",
   "metadata": {},
   "source": [
    "## Hyperparameter optimization"
   ]
  },
  {
   "cell_type": "code",
   "execution_count": null,
   "metadata": {},
   "outputs": [],
   "source": [
    "def plot_cv_score(hp, hp_label, cv_model, xlim=None, ylim=None,xt=None, outf=None, disp_train_score=False, vline=None, l = False):\n",
    "    plt.figure(figsize=(15,10))\n",
    "    plt.xlabel(hp_label, fontsize=26)\n",
    "    plt.xticks(fontsize=24)\n",
    "    plt.yticks(fontsize=24)\n",
    "    plt.ylabel(\"$R^2$ (average of 5-fold cross-validation)\", fontsize=26)\n",
    "    plt.plot(hp,cv_model.cv_results_['mean_test_score'],linewidth=2,label = 'validation')\n",
    "    if disp_train_score:\n",
    "        plt.plot(hp,cv_model.cv_results_['mean_train_score'],linewidth=2, label = 'training')\n",
    "    if xlim is not None:\n",
    "        plt.xlim(xlim)\n",
    "    if ylim is not None:\n",
    "        plt.ylim(ylim)\n",
    "    if xt is not None:\n",
    "        plt.xticks(xt)\n",
    "    if vline is not None:\n",
    "        plt.axvline(x=vline, ymin=0, ymax=1, ls='--', c='r')\n",
    "    if l:\n",
    "        lgd = plt.legend(bbox_to_anchor=(1.05,.90), fontsize=26,loc='center left')\n",
    "    if outf is not None:\n",
    "        if l:\n",
    "            plt.savefig(outf,bbox_extra_artists=(lgd,), bbox_inches='tight')\n",
    "        else:\n",
    "            plt.savefig(outf)\n",
    "    plt.show()\n",
    " \n",
    "def dump_to_table(hp,hp_label,cv_model):\n",
    "    dfout = pd.DataFrame()\n",
    "    dfout[\"hp_label\"]      = hp\n",
    "    dfout[\"tr_cv1\"]     = cv_model.cv_results_[\"split0_train_score\"]\n",
    "    dfout[\"tr_cv2\"]     = cv_model.cv_results_[\"split1_train_score\"]\n",
    "    dfout[\"tr_cv3\"]     = cv_model.cv_results_[\"split2_train_score\"]\n",
    "    dfout[\"tr_cv4\"]     = cv_model.cv_results_[\"split3_train_score\"]\n",
    "    dfout[\"tr_cv5\"]     = cv_model.cv_results_[\"split4_train_score\"]\n",
    "    dfout[\"tr_cv_mean\"] = cv_model.cv_results_[\"mean_train_score\"]\n",
    "    dfout[\"tst_cv1\"]     = cv_model.cv_results_[\"split0_test_score\"]\n",
    "    dfout[\"tst_cv2\"]     = cv_model.cv_results_[\"split1_test_score\"]\n",
    "    dfout[\"tst_cv3\"]     = cv_model.cv_results_[\"split2_test_score\"]\n",
    "    dfout[\"tst_cv4\"]     = cv_model.cv_results_[\"split3_test_score\"]\n",
    "    dfout[\"tst_cv5\"]     = cv_model.cv_results_[\"split4_test_score\"]\n",
    "    dfout[\"tst_cv_mean\"] = cv_model.cv_results_[\"mean_test_score\"]\n",
    "    return dfout\n",
    "    "
   ]
  },
  {
   "cell_type": "markdown",
   "metadata": {},
   "source": [
    "## Test set performance"
   ]
  },
  {
   "cell_type": "code",
   "execution_count": null,
   "metadata": {},
   "outputs": [],
   "source": [
    "def plot_tst_score(X_tst, y_tst, model, outf=None):\n",
    "    plt.figure(figsize=(15,10))\n",
    "    y_hat = model.predict(X_tst)\n",
    "    \n",
    "    plt.scatter(y_hat, y_tst)\n",
    "    plt.xticks(fontsize=24)\n",
    "    plt.yticks(fontsize=24)\n",
    "    plt.xlabel(\"$E_{model}$\", fontsize=26)\n",
    "    plt.ylabel(\"$E_{DFT}$\", fontsize=26)\n",
    "    modelGraph = LinearRegression()\n",
    "    modelGraph.fit(y_hat.reshape((-1,1)), y_tst.values.reshape((-1,1)))\n",
    "    plt.xlim(0,2.6)\n",
    "    plt.ylim(0,2.6)\n",
    "    sgn = '+'\n",
    "    if modelGraph.intercept_[0] < 0:\n",
    "        sgn='-'\n",
    "    plt.text(0.2, 2.4, \n",
    "             \"$E_{DFT}$ = \" + \"{:.3f}\".format(modelGraph.coef_[0][0]) + \n",
    "             \"$E_{model}$ \" + sgn+\" {:.3f}\".format(np.abs(modelGraph.intercept_)[0]),\n",
    "            fontsize=26)\n",
    "    plt.text(0.4, 2.2, \n",
    "             \"$R^2$ = {:.3f}\".format(modelGraph.score(y_hat.reshape((-1,1)), y_tst.values.reshape((-1,1)))),\n",
    "            fontsize=26)\n",
    "    xgr = np.arange(0.2, 2.5, 0.1)\n",
    "    ygr = modelGraph.predict(xgr.reshape(-1,1))\n",
    "    plt.plot(xgr,ygr,color='r',linewidth=2)\n",
    "    if outf is not None:\n",
    "        plt.savefig(outf)\n",
    "    plt.show()"
   ]
  },
  {
   "cell_type": "markdown",
   "metadata": {},
   "source": [
    "# Ridge regression"
   ]
  },
  {
   "cell_type": "markdown",
   "metadata": {},
   "source": [
    "## Hyperparameter tuning"
   ]
  },
  {
   "cell_type": "code",
   "execution_count": null,
   "metadata": {},
   "outputs": [],
   "source": [
    "RidgeRegression = Ridge()\n",
    "alpha = np.array([0,1e-15,1e-14,1e-13,1e-12,1e-11,1e-10,1e-9,1e-8,1e-6,1e-5,1e-4,1e-3])\n",
    "alpha = np.concatenate((alpha, np.arange(1e-4,1e-3,1e-4) ,np.arange(1e-2,1e-1,1e-3), np.array([.2,.25,.3,.35,.4,.45,.5,.6,.7,1])))\n",
    "hyperParameters = {'alpha':alpha}\n",
    "ridgeRegressor = GridSearchCV(RidgeRegression, hyperParameters, scoring='r2', cv=5, return_train_score=True)\n",
    "ridgeRegressor.fit(X_tr,y_tr)\n"
   ]
  },
  {
   "cell_type": "code",
   "execution_count": null,
   "metadata": {},
   "outputs": [],
   "source": [
    "plot_cv_score(alpha, \"$\\lambda$\", ridgeRegressor, disp_train_score=True, vline=.1, l=True,ylim=[.1,1.05], outf=\"GSRidge.png\")\n",
    "#dump_to_table(alpha,\"lambda\", ridgeRegressor).to_csv(\"GSRidge.csv\", index=False)"
   ]
  },
  {
   "cell_type": "markdown",
   "metadata": {},
   "source": [
    "## Performance over test set"
   ]
  },
  {
   "cell_type": "code",
   "execution_count": null,
   "metadata": {
    "scrolled": false
   },
   "outputs": [],
   "source": [
    "r = Ridge(alpha=0.1)\n",
    "r.fit(X_tr,y_tr)\n",
    "plot_tst_score(X_tst, y_tst, r, outf=\"RidgeTestSet.png\")"
   ]
  },
  {
   "cell_type": "markdown",
   "metadata": {},
   "source": [
    "# Decision tree regression"
   ]
  },
  {
   "cell_type": "markdown",
   "metadata": {},
   "source": [
    "## Hyperparameter tuning"
   ]
  },
  {
   "cell_type": "code",
   "execution_count": null,
   "metadata": {},
   "outputs": [],
   "source": [
    "DTRegression = DecisionTreeRegressor()\n",
    "md = np.arange(1,21,1)\n",
    "hyperParameters = {'max_depth':md}\n",
    "dtRegressor = GridSearchCV(DTRegression, hyperParameters, scoring='r2', cv=5, return_train_score=True)\n",
    "dtRegressor.fit(X_tr,y_tr)\n"
   ]
  },
  {
   "cell_type": "code",
   "execution_count": null,
   "metadata": {},
   "outputs": [],
   "source": [
    "plot_cv_score(md, \"Maximal allowed decison tree depth\", dtRegressor, xt=np.arange(0,22,2), xlim=[0,21], disp_train_score=True, l=True, vline=3,ylim=[.1,1.05], outf=\"GSDT.png\")\n",
    "dump_to_table(md,\"max_depth\", dtRegressor).to_csv(\"GSST.csv\", index=False)"
   ]
  },
  {
   "cell_type": "markdown",
   "metadata": {},
   "source": [
    "## Performance over test set"
   ]
  },
  {
   "cell_type": "code",
   "execution_count": null,
   "metadata": {},
   "outputs": [],
   "source": [
    "dt = DecisionTreeRegressor(max_depth=3)\n",
    "dt.fit(X_tr,y_tr)\n",
    "plot_tst_score(X_tst, y_tst, dt, outf=\"DTTestSet.png\")"
   ]
  },
  {
   "cell_type": "markdown",
   "metadata": {},
   "source": [
    "## Plot the tree"
   ]
  },
  {
   "cell_type": "code",
   "execution_count": null,
   "metadata": {},
   "outputs": [],
   "source": [
    "plt.figure(figsize = (35,20))\n",
    "tree.plot_tree(dt, feature_names=fnames, fontsize=20)\n",
    "plt.savefig(\"Tree.png\")\n",
    "plt.show()"
   ]
  },
  {
   "cell_type": "markdown",
   "metadata": {},
   "source": [
    "# RandomForest Regression"
   ]
  },
  {
   "cell_type": "markdown",
   "metadata": {},
   "source": [
    "## Hyperparameter tuning"
   ]
  },
  {
   "cell_type": "code",
   "execution_count": null,
   "metadata": {},
   "outputs": [],
   "source": [
    "RFRegression = RandomForestRegressor(max_depth=3)\n",
    "n_est = np.arange(2,100,1)\n",
    "hyperParameters = {'n_estimators':n_est}\n",
    "rfRegressor = GridSearchCV(RFRegression, hyperParameters, scoring='r2', cv=5, return_train_score=True)\n",
    "rfRegressor.fit(X_tr,y_tr)\n"
   ]
  },
  {
   "cell_type": "code",
   "execution_count": null,
   "metadata": {},
   "outputs": [],
   "source": [
    "plot_cv_score(n_est, \"Number of estimators\", rfRegressor,disp_train_score=True,l=True,ylim=[.1,1.05], outf=\"GSRandomForest.png\", vline=10)\n",
    "dump_to_table(n_est,\"n_estimators\", rfRegressor).to_csv(\"GSRandomForest.csv\", index=False)"
   ]
  },
  {
   "cell_type": "markdown",
   "metadata": {},
   "source": [
    "## Performance over test set"
   ]
  },
  {
   "cell_type": "code",
   "execution_count": null,
   "metadata": {},
   "outputs": [],
   "source": [
    "rf = RandomForestRegressor(n_estimators=10, max_depth=3)\n",
    "rf.fit(X_tr,y_tr)\n",
    "plot_tst_score(X_tst, y_tst, rf, outf=\"RandomForestTestSet.png\")"
   ]
  },
  {
   "cell_type": "markdown",
   "metadata": {},
   "source": [
    "# ExtraTrees"
   ]
  },
  {
   "cell_type": "markdown",
   "metadata": {},
   "source": [
    "## Hyperparameter tuning"
   ]
  },
  {
   "cell_type": "code",
   "execution_count": null,
   "metadata": {},
   "outputs": [],
   "source": [
    "ETRegression = ExtraTreesRegressor(max_depth=3)\n",
    "n_est = np.arange(2,100,1)\n",
    "hyperParameters = {'n_estimators':n_est}\n",
    "etRegressor = GridSearchCV(ETRegression, hyperParameters, scoring='r2', cv=5, return_train_score=True)\n",
    "etRegressor.fit(X_tr,y_tr)\n"
   ]
  },
  {
   "cell_type": "code",
   "execution_count": null,
   "metadata": {},
   "outputs": [],
   "source": [
    "plot_cv_score(n_est, \"Number of estimators\", etRegressor,disp_train_score=True,l=True,ylim=[.1,1.05],outf='GSExtraTrees.png', vline=15)\n",
    "dump_to_table(n_est,\"n_estimators\", etRegressor).to_csv(\"GSExtraTrees.csv\", index=False)"
   ]
  },
  {
   "cell_type": "markdown",
   "metadata": {},
   "source": [
    "## Performance over test set"
   ]
  },
  {
   "cell_type": "code",
   "execution_count": null,
   "metadata": {},
   "outputs": [],
   "source": [
    "et = ExtraTreesRegressor(n_estimators=15, max_depth=3)\n",
    "et.fit(X_tr,y_tr)\n",
    "plot_tst_score(X_tst, y_tst, et, outf=\"ExtraTreesTestSet.png\")"
   ]
  },
  {
   "cell_type": "markdown",
   "metadata": {},
   "source": [
    "# GradientBoosting"
   ]
  },
  {
   "cell_type": "markdown",
   "metadata": {},
   "source": [
    "## Hyperparameter tuning"
   ]
  },
  {
   "cell_type": "code",
   "execution_count": null,
   "metadata": {},
   "outputs": [],
   "source": [
    "GBRegression = GradientBoostingRegressor()\n",
    "n_est = np.arange(2,100,1)\n",
    "lr = np.array([0.01,0.05,0.1,0.5])\n",
    "hyperParameters = {'n_estimators':n_est,\n",
    "                   'learning_rate':lr}\n",
    "gbRegressor = GridSearchCV(GBRegression, hyperParameters, scoring='r2', cv=5, return_train_score=True)\n",
    "gbRegressor.fit(X_tr,y_tr)\n"
   ]
  },
  {
   "cell_type": "markdown",
   "metadata": {},
   "source": [
    "### Grid search results to table"
   ]
  },
  {
   "cell_type": "code",
   "execution_count": null,
   "metadata": {},
   "outputs": [],
   "source": [
    "dfout = pd.DataFrame()\n",
    "cv_model = gbRegressor\n",
    "dfout[\"n_est\"]      = cv_model.cv_results_['param_n_estimators']\n",
    "dfout[\"learning rate\"] = cv_model.cv_results_['param_learning_rate']\n",
    "dfout[\"tr_cv1\"]     = cv_model.cv_results_[\"split0_train_score\"]\n",
    "dfout[\"tr_cv2\"]     = cv_model.cv_results_[\"split1_train_score\"]\n",
    "dfout[\"tr_cv3\"]     = cv_model.cv_results_[\"split2_train_score\"]\n",
    "dfout[\"tr_cv4\"]     = cv_model.cv_results_[\"split3_train_score\"]\n",
    "dfout[\"tr_cv5\"]     = cv_model.cv_results_[\"split4_train_score\"]\n",
    "dfout[\"tr_cv_mean\"] = cv_model.cv_results_[\"mean_train_score\"]\n",
    "dfout[\"tst_cv1\"]     = cv_model.cv_results_[\"split0_test_score\"]\n",
    "dfout[\"tst_cv2\"]     = cv_model.cv_results_[\"split1_test_score\"]\n",
    "dfout[\"tst_cv3\"]     = cv_model.cv_results_[\"split2_test_score\"]\n",
    "dfout[\"tst_cv4\"]     = cv_model.cv_results_[\"split3_test_score\"]\n",
    "dfout[\"tst_cv5\"]     = cv_model.cv_results_[\"split4_test_score\"]\n",
    "dfout[\"tst_cv_mean\"] = cv_model.cv_results_[\"mean_test_score\"]\n",
    "dfout.to_csv(\"GradientBoosting.csv\", index = False)"
   ]
  },
  {
   "cell_type": "markdown",
   "metadata": {},
   "source": [
    "### Grid search to figure"
   ]
  },
  {
   "cell_type": "code",
   "execution_count": null,
   "metadata": {},
   "outputs": [],
   "source": [
    "lr001tr = dfout[dfout['learning rate'] == 0.01][\"tr_cv_mean\"]\n",
    "lr005tr = dfout[dfout['learning rate'] == 0.05][\"tr_cv_mean\"]\n",
    "lr01tr = dfout[dfout['learning rate'] == 0.1][\"tr_cv_mean\"]\n",
    "lr05tr = dfout[dfout['learning rate'] == 0.5][\"tr_cv_mean\"]\n",
    "\n",
    "lr001tst = dfout[dfout['learning rate'] == 0.01][\"tst_cv_mean\"]\n",
    "lr005tst = dfout[dfout['learning rate'] == 0.05][\"tst_cv_mean\"]\n",
    "lr01tst = dfout[dfout['learning rate'] == 0.1][\"tst_cv_mean\"]\n",
    "lr05tst = dfout[dfout['learning rate'] == 0.5][\"tst_cv_mean\"]"
   ]
  },
  {
   "cell_type": "code",
   "execution_count": null,
   "metadata": {},
   "outputs": [],
   "source": [
    "plt.figure(figsize=(15,10))\n",
    "plt.xlabel(\"Number of estimators\", fontsize=26)\n",
    "plt.xticks(fontsize=24)\n",
    "plt.yticks(fontsize=24)\n",
    "plt.ylabel(\"$R^2$ (average of 5-fold cross-validation)\", fontsize=26)\n",
    "m=10\n",
    "plt.plot(n_est, lr001tst, label = \"LR = 0.01, validation\",linewidth=0,marker='d', c='b', markersize=m)\n",
    "plt.plot(n_est, lr001tr,  label = \"LR = 0.01, training\",linewidth=0, marker='d', c='b', fillstyle='none', markersize=m)#, linestyle='none')\n",
    "plt.plot(n_est, lr005tst, label = \"LR = 0.05, validation\",linewidth=0,marker='o', c='r', markersize=m)\n",
    "plt.plot(n_est, lr005tr,  label = \"LR = 0.05, training\",linewidth=0, marker='o', c='r', fillstyle='none', markersize=m)\n",
    "plt.plot(n_est, lr01tst,  label = \"LR = 0.10, validation\",linewidth=0, marker='X', c='g', markersize=m)\n",
    "plt.plot(n_est, lr01tr,  label = \"LR = 0.10, training\",linewidth=0, marker='x', c='g')#, fillstyle='none', markersize=m)\n",
    "plt.plot(n_est, lr05tst,  label = \"LR = 0.50, validation\",linewidth=0, marker='^', c='black', markersize=m)\n",
    "plt.plot(n_est, lr05tr,   label = \"LR = 0.50, training\",linewidth=0, marker='^', c='black',fillstyle='none', markersize=m )\n",
    "plt.axvline(x=50, ymin=0, ymax=1, ls='--', c='r')\n",
    "lgd = plt.legend(bbox_to_anchor=(1.05,1.0), fontsize=26)\n",
    "plt.savefig(\"GSGradientBoosting.png\", bbox_extra_artists=(lgd,), bbox_inches='tight')"
   ]
  },
  {
   "cell_type": "markdown",
   "metadata": {},
   "source": [
    "## Performance over test set"
   ]
  },
  {
   "cell_type": "code",
   "execution_count": null,
   "metadata": {},
   "outputs": [],
   "source": [
    "gb = GradientBoostingRegressor(n_estimators=50, learning_rate=.05)\n",
    "gb.fit(X_tr,y_tr)\n",
    "plot_tst_score(X_tst, y_tst, gb, outf=\"GradientBoostingTestSet.png\")"
   ]
  }
 ],
 "metadata": {
  "kernelspec": {
   "display_name": "Python 3",
   "language": "python",
   "name": "python3"
  },
  "language_info": {
   "codemirror_mode": {
    "name": "ipython",
    "version": 3
   },
   "file_extension": ".py",
   "mimetype": "text/x-python",
   "name": "python",
   "nbconvert_exporter": "python",
   "pygments_lexer": "ipython3",
   "version": "3.7.4"
  }
 },
 "nbformat": 4,
 "nbformat_minor": 2
}
